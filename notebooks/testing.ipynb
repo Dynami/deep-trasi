{
 "cells": [
  {
   "cell_type": "code",
   "execution_count": 1,
   "metadata": {},
   "outputs": [],
   "source": [
    "import os\n",
    "import pandas as pd\n",
    "import numpy as np"
   ]
  },
  {
   "cell_type": "code",
   "execution_count": 2,
   "metadata": {},
   "outputs": [
    {
     "data": {
      "text/plain": [
       "['main.py',\n",
       " 'preprocess',\n",
       " 'models',\n",
       " 'notebooks',\n",
       " '.gitignore',\n",
       " '.git',\n",
       " 'model_selection',\n",
       " '.idea',\n",
       " 'data',\n",
       " 'trasi.csv']"
      ]
     },
     "execution_count": 2,
     "metadata": {},
     "output_type": "execute_result"
    }
   ],
   "source": [
    "os.chdir('../')\n",
    "os.listdir()"
   ]
  },
  {
   "cell_type": "code",
   "execution_count": 24,
   "metadata": {},
   "outputs": [],
   "source": [
    "import preprocess.preprocess as prep\n",
    "import model_selection.model_selection as ms"
   ]
  },
  {
   "cell_type": "code",
   "execution_count": 19,
   "metadata": {},
   "outputs": [],
   "source": [
    "df = pd.read_csv('trasi.csv', index_col='index')\n",
    "df.drop(columns='Unnamed: 0', inplace=True)"
   ]
  },
  {
   "cell_type": "code",
   "execution_count": 20,
   "metadata": {},
   "outputs": [
    {
     "data": {
      "text/html": [
       "<div>\n",
       "<style scoped>\n",
       "    .dataframe tbody tr th:only-of-type {\n",
       "        vertical-align: middle;\n",
       "    }\n",
       "\n",
       "    .dataframe tbody tr th {\n",
       "        vertical-align: top;\n",
       "    }\n",
       "\n",
       "    .dataframe thead th {\n",
       "        text-align: right;\n",
       "    }\n",
       "</style>\n",
       "<table border=\"1\" class=\"dataframe\">\n",
       "  <thead>\n",
       "    <tr style=\"text-align: right;\">\n",
       "      <th></th>\n",
       "      <th>open</th>\n",
       "      <th>high</th>\n",
       "      <th>low</th>\n",
       "      <th>close</th>\n",
       "      <th>mon</th>\n",
       "      <th>tue</th>\n",
       "      <th>wed</th>\n",
       "      <th>thu</th>\n",
       "      <th>fri</th>\n",
       "      <th>week_1</th>\n",
       "      <th>...</th>\n",
       "      <th>o_CALL_380</th>\n",
       "      <th>o_PUT_380</th>\n",
       "      <th>o_price_distance_norm_380</th>\n",
       "      <th>o_price_distance_sign_380</th>\n",
       "      <th>o_strike_norm_380</th>\n",
       "      <th>o_settlement_norm_380</th>\n",
       "      <th>o_volume_norm_380</th>\n",
       "      <th>o_open_interest_norm_380</th>\n",
       "      <th>target</th>\n",
       "      <th>sparse_target</th>\n",
       "    </tr>\n",
       "    <tr>\n",
       "      <th>index</th>\n",
       "      <th></th>\n",
       "      <th></th>\n",
       "      <th></th>\n",
       "      <th></th>\n",
       "      <th></th>\n",
       "      <th></th>\n",
       "      <th></th>\n",
       "      <th></th>\n",
       "      <th></th>\n",
       "      <th></th>\n",
       "      <th></th>\n",
       "      <th></th>\n",
       "      <th></th>\n",
       "      <th></th>\n",
       "      <th></th>\n",
       "      <th></th>\n",
       "      <th></th>\n",
       "      <th></th>\n",
       "      <th></th>\n",
       "      <th></th>\n",
       "      <th></th>\n",
       "    </tr>\n",
       "  </thead>\n",
       "  <tbody>\n",
       "    <tr>\n",
       "      <th>2016-09-27</th>\n",
       "      <td>-0.058155</td>\n",
       "      <td>-0.060909</td>\n",
       "      <td>-0.065845</td>\n",
       "      <td>-0.059556</td>\n",
       "      <td>0</td>\n",
       "      <td>1</td>\n",
       "      <td>0</td>\n",
       "      <td>0</td>\n",
       "      <td>0</td>\n",
       "      <td>0</td>\n",
       "      <td>...</td>\n",
       "      <td>0.0</td>\n",
       "      <td>0.0</td>\n",
       "      <td>0.0</td>\n",
       "      <td>0.0</td>\n",
       "      <td>0.0</td>\n",
       "      <td>0.0</td>\n",
       "      <td>0.0</td>\n",
       "      <td>0.0</td>\n",
       "      <td>0.021032</td>\n",
       "      <td>1</td>\n",
       "    </tr>\n",
       "    <tr>\n",
       "      <th>2016-09-28</th>\n",
       "      <td>-0.040819</td>\n",
       "      <td>-0.031007</td>\n",
       "      <td>-0.029408</td>\n",
       "      <td>-0.036702</td>\n",
       "      <td>0</td>\n",
       "      <td>0</td>\n",
       "      <td>1</td>\n",
       "      <td>0</td>\n",
       "      <td>0</td>\n",
       "      <td>0</td>\n",
       "      <td>...</td>\n",
       "      <td>0.0</td>\n",
       "      <td>0.0</td>\n",
       "      <td>0.0</td>\n",
       "      <td>0.0</td>\n",
       "      <td>0.0</td>\n",
       "      <td>0.0</td>\n",
       "      <td>0.0</td>\n",
       "      <td>0.0</td>\n",
       "      <td>0.015292</td>\n",
       "      <td>1</td>\n",
       "    </tr>\n",
       "    <tr>\n",
       "      <th>2016-09-29</th>\n",
       "      <td>-0.010237</td>\n",
       "      <td>-0.010999</td>\n",
       "      <td>-0.013495</td>\n",
       "      <td>-0.012160</td>\n",
       "      <td>0</td>\n",
       "      <td>0</td>\n",
       "      <td>0</td>\n",
       "      <td>1</td>\n",
       "      <td>0</td>\n",
       "      <td>0</td>\n",
       "      <td>...</td>\n",
       "      <td>0.0</td>\n",
       "      <td>0.0</td>\n",
       "      <td>0.0</td>\n",
       "      <td>0.0</td>\n",
       "      <td>0.0</td>\n",
       "      <td>0.0</td>\n",
       "      <td>0.0</td>\n",
       "      <td>0.0</td>\n",
       "      <td>-0.004255</td>\n",
       "      <td>0</td>\n",
       "    </tr>\n",
       "    <tr>\n",
       "      <th>2016-09-30</th>\n",
       "      <td>-0.028101</td>\n",
       "      <td>-0.010286</td>\n",
       "      <td>-0.028186</td>\n",
       "      <td>-0.011716</td>\n",
       "      <td>0</td>\n",
       "      <td>0</td>\n",
       "      <td>0</td>\n",
       "      <td>0</td>\n",
       "      <td>1</td>\n",
       "      <td>0</td>\n",
       "      <td>...</td>\n",
       "      <td>0.0</td>\n",
       "      <td>0.0</td>\n",
       "      <td>0.0</td>\n",
       "      <td>0.0</td>\n",
       "      <td>0.0</td>\n",
       "      <td>0.0</td>\n",
       "      <td>0.0</td>\n",
       "      <td>0.0</td>\n",
       "      <td>0.011607</td>\n",
       "      <td>0</td>\n",
       "    </tr>\n",
       "    <tr>\n",
       "      <th>2016-10-03</th>\n",
       "      <td>-0.008972</td>\n",
       "      <td>-0.004708</td>\n",
       "      <td>0.001751</td>\n",
       "      <td>0.005051</td>\n",
       "      <td>1</td>\n",
       "      <td>0</td>\n",
       "      <td>0</td>\n",
       "      <td>0</td>\n",
       "      <td>0</td>\n",
       "      <td>1</td>\n",
       "      <td>...</td>\n",
       "      <td>0.0</td>\n",
       "      <td>0.0</td>\n",
       "      <td>0.0</td>\n",
       "      <td>0.0</td>\n",
       "      <td>0.0</td>\n",
       "      <td>0.0</td>\n",
       "      <td>0.0</td>\n",
       "      <td>0.0</td>\n",
       "      <td>0.021899</td>\n",
       "      <td>1</td>\n",
       "    </tr>\n",
       "  </tbody>\n",
       "</table>\n",
       "<p>5 rows × 5364 columns</p>\n",
       "</div>"
      ],
      "text/plain": [
       "                open      high       low     close  mon  tue  wed  thu  fri  \\\n",
       "index                                                                         \n",
       "2016-09-27 -0.058155 -0.060909 -0.065845 -0.059556    0    1    0    0    0   \n",
       "2016-09-28 -0.040819 -0.031007 -0.029408 -0.036702    0    0    1    0    0   \n",
       "2016-09-29 -0.010237 -0.010999 -0.013495 -0.012160    0    0    0    1    0   \n",
       "2016-09-30 -0.028101 -0.010286 -0.028186 -0.011716    0    0    0    0    1   \n",
       "2016-10-03 -0.008972 -0.004708  0.001751  0.005051    1    0    0    0    0   \n",
       "\n",
       "            week_1      ...        o_CALL_380  o_PUT_380  \\\n",
       "index                   ...                                \n",
       "2016-09-27       0      ...               0.0        0.0   \n",
       "2016-09-28       0      ...               0.0        0.0   \n",
       "2016-09-29       0      ...               0.0        0.0   \n",
       "2016-09-30       0      ...               0.0        0.0   \n",
       "2016-10-03       1      ...               0.0        0.0   \n",
       "\n",
       "            o_price_distance_norm_380  o_price_distance_sign_380  \\\n",
       "index                                                              \n",
       "2016-09-27                        0.0                        0.0   \n",
       "2016-09-28                        0.0                        0.0   \n",
       "2016-09-29                        0.0                        0.0   \n",
       "2016-09-30                        0.0                        0.0   \n",
       "2016-10-03                        0.0                        0.0   \n",
       "\n",
       "            o_strike_norm_380  o_settlement_norm_380  o_volume_norm_380  \\\n",
       "index                                                                     \n",
       "2016-09-27                0.0                    0.0                0.0   \n",
       "2016-09-28                0.0                    0.0                0.0   \n",
       "2016-09-29                0.0                    0.0                0.0   \n",
       "2016-09-30                0.0                    0.0                0.0   \n",
       "2016-10-03                0.0                    0.0                0.0   \n",
       "\n",
       "            o_open_interest_norm_380    target  sparse_target  \n",
       "index                                                          \n",
       "2016-09-27                       0.0  0.021032              1  \n",
       "2016-09-28                       0.0  0.015292              1  \n",
       "2016-09-29                       0.0 -0.004255              0  \n",
       "2016-09-30                       0.0  0.011607              0  \n",
       "2016-10-03                       0.0  0.021899              1  \n",
       "\n",
       "[5 rows x 5364 columns]"
      ]
     },
     "execution_count": 20,
     "metadata": {},
     "output_type": "execute_result"
    }
   ],
   "source": [
    "df.head()"
   ]
  },
  {
   "cell_type": "code",
   "execution_count": 26,
   "metadata": {},
   "outputs": [
    {
     "name": "stdout",
     "output_type": "stream",
     "text": [
      "(491, 5362) (123, 5362) (491, 2) (123, 2)\n"
     ]
    }
   ],
   "source": [
    "x_train_data, x_test_data, y_train_data, y_test_data = ms.split_dataset(df, split_ratio=0.8)"
   ]
  },
  {
   "cell_type": "code",
   "execution_count": 28,
   "metadata": {},
   "outputs": [
    {
     "data": {
      "text/html": [
       "<div>\n",
       "<style scoped>\n",
       "    .dataframe tbody tr th:only-of-type {\n",
       "        vertical-align: middle;\n",
       "    }\n",
       "\n",
       "    .dataframe tbody tr th {\n",
       "        vertical-align: top;\n",
       "    }\n",
       "\n",
       "    .dataframe thead th {\n",
       "        text-align: right;\n",
       "    }\n",
       "</style>\n",
       "<table border=\"1\" class=\"dataframe\">\n",
       "  <thead>\n",
       "    <tr style=\"text-align: right;\">\n",
       "      <th></th>\n",
       "      <th>target</th>\n",
       "      <th>sparse_target</th>\n",
       "    </tr>\n",
       "    <tr>\n",
       "      <th>index</th>\n",
       "      <th></th>\n",
       "      <th></th>\n",
       "    </tr>\n",
       "  </thead>\n",
       "  <tbody>\n",
       "    <tr>\n",
       "      <th>2016-09-27</th>\n",
       "      <td>0.021032</td>\n",
       "      <td>1</td>\n",
       "    </tr>\n",
       "    <tr>\n",
       "      <th>2016-09-28</th>\n",
       "      <td>0.015292</td>\n",
       "      <td>1</td>\n",
       "    </tr>\n",
       "    <tr>\n",
       "      <th>2016-09-29</th>\n",
       "      <td>-0.004255</td>\n",
       "      <td>0</td>\n",
       "    </tr>\n",
       "    <tr>\n",
       "      <th>2016-09-30</th>\n",
       "      <td>0.011607</td>\n",
       "      <td>0</td>\n",
       "    </tr>\n",
       "    <tr>\n",
       "      <th>2016-10-03</th>\n",
       "      <td>0.021899</td>\n",
       "      <td>1</td>\n",
       "    </tr>\n",
       "  </tbody>\n",
       "</table>\n",
       "</div>"
      ],
      "text/plain": [
       "              target  sparse_target\n",
       "index                              \n",
       "2016-09-27  0.021032              1\n",
       "2016-09-28  0.015292              1\n",
       "2016-09-29 -0.004255              0\n",
       "2016-09-30  0.011607              0\n",
       "2016-10-03  0.021899              1"
      ]
     },
     "execution_count": 28,
     "metadata": {},
     "output_type": "execute_result"
    }
   ],
   "source": [
    "y_train_data.head()"
   ]
  },
  {
   "cell_type": "code",
   "execution_count": 29,
   "metadata": {},
   "outputs": [],
   "source": [
    "from sklearn.linear_model import Lasso\n"
   ]
  },
  {
   "cell_type": "code",
   "execution_count": 32,
   "metadata": {},
   "outputs": [
    {
     "data": {
      "text/plain": [
       "Lasso(alpha=1.0, copy_X=True, fit_intercept=True, max_iter=1000,\n",
       "   normalize=False, positive=False, precompute=False, random_state=None,\n",
       "   selection='cyclic', tol=0.0001, warm_start=False)"
      ]
     },
     "execution_count": 32,
     "metadata": {},
     "output_type": "execute_result"
    }
   ],
   "source": [
    "clf = Lasso()\n",
    "clf.fit(x_train_data.values, y_train_data[['sparse_target']].values)"
   ]
  },
  {
   "cell_type": "code",
   "execution_count": 33,
   "metadata": {},
   "outputs": [
    {
     "data": {
      "text/plain": [
       "array([0.5, 0.6, 0.7, 0.8, 0.9, 1. , 1.1, 1.2, 1.3, 1.4])"
      ]
     },
     "execution_count": 33,
     "metadata": {},
     "output_type": "execute_result"
    }
   ],
   "source": [
    "np.arange(0.5, 1.6, 0.1)"
   ]
  },
  {
   "cell_type": "code",
   "execution_count": 34,
   "metadata": {},
   "outputs": [],
   "source": [
    "from xgboost import XGBClassifier"
   ]
  },
  {
   "cell_type": "code",
   "execution_count": 35,
   "metadata": {},
   "outputs": [
    {
     "data": {
      "text/plain": [
       "XGBClassifier(base_score=0.5, booster='gbtree', colsample_bylevel=1,\n",
       "       colsample_bytree=1, gamma=0, learning_rate=0.1, max_delta_step=0,\n",
       "       max_depth=3, min_child_weight=1, missing=None, n_estimators=100,\n",
       "       n_jobs=1, nthread=None, objective='multi:softprob', random_state=0,\n",
       "       reg_alpha=0, reg_lambda=1, scale_pos_weight=1, seed=None,\n",
       "       silent=True, subsample=1)"
      ]
     },
     "execution_count": 35,
     "metadata": {},
     "output_type": "execute_result"
    }
   ],
   "source": [
    "clf = XGBClassifier()\n",
    "clf.fit(x_train_data.values, y_train_data[['sparse_target']].values)"
   ]
  },
  {
   "cell_type": "code",
   "execution_count": 36,
   "metadata": {},
   "outputs": [],
   "source": [
    "y_pred = clf.predict(x_test_data.values)"
   ]
  },
  {
   "cell_type": "code",
   "execution_count": 40,
   "metadata": {},
   "outputs": [],
   "source": [
    "result = y_pred * np.reshape(y_test_data[['target']].values, (-1))"
   ]
  },
  {
   "cell_type": "code",
   "execution_count": 41,
   "metadata": {},
   "outputs": [
    {
     "data": {
      "text/plain": [
       "-0.1336779991557639"
      ]
     },
     "execution_count": 41,
     "metadata": {},
     "output_type": "execute_result"
    }
   ],
   "source": [
    "np.sum(result)"
   ]
  },
  {
   "cell_type": "code",
   "execution_count": 42,
   "metadata": {},
   "outputs": [
    {
     "data": {
      "text/plain": [
       "array([ 0.03508616,  0.03044658,  0.03396208,  0.04917958,  0.04363231,\n",
       "        0.03585705,  0.03800259,  0.02614464, -0.00645106, -0.01318814,\n",
       "       -0.02600917, -0.02318705, -0.03138278, -0.05529063, -0.06974738,\n",
       "       -0.07414928, -0.08903584, -0.10015587, -0.07028491, -0.06416063,\n",
       "       -0.04106932, -0.06177756, -0.07400209, -0.06221383, -0.04459367,\n",
       "       -0.06279356, -0.06255781, -0.02796409, -0.02974193, -0.01284709,\n",
       "       -0.03646598, -0.02080546,  0.00511381,  0.01625668,  0.        ,\n",
       "        0.0247744 ,  0.05709785,  0.        ,  0.03076763,  0.        ,\n",
       "        0.        ,  0.        , -0.        , -0.        , -0.        ,\n",
       "       -0.        , -0.        , -0.        , -0.        ,  0.        ,\n",
       "       -0.        ,  0.        ,  0.        ,  0.01645592,  0.04245999,\n",
       "        0.04775225,  0.03187937,  0.00219265,  0.00144698, -0.04280667,\n",
       "       -0.02920934, -0.00885998, -0.00578144, -0.01449687, -0.04733936,\n",
       "       -0.        , -0.02001169, -0.00358993, -0.01839667, -0.01876739,\n",
       "       -0.0143607 , -0.03281836,  0.0376842 ,  0.03661349,  0.00740045,\n",
       "        0.01654183, -0.00307467, -0.03241983,  0.04911348,  0.06783813,\n",
       "        0.04624801,  0.04592058,  0.06255963,  0.06872063,  0.0428451 ,\n",
       "        0.        ,  0.021053  ,  0.02009056,  0.        ,  0.        ,\n",
       "        0.        ,  0.031623  ,  0.01298968,  0.        , -0.0016824 ,\n",
       "        0.02038455,  0.        , -0.0044039 , -0.        , -0.        ,\n",
       "        0.        ,  0.        ,  0.        ,  0.        ,  0.        ,\n",
       "        0.        ,  0.        ,  0.        ,  0.        ,  0.        ,\n",
       "        0.        ,  0.        ,  0.        ,  0.02385622,  0.01910837,\n",
       "        0.02411387,  0.02695746,  0.02413888,  0.01095027,  0.00984784,\n",
       "        0.00634208,  0.01221584,  0.01055061])"
      ]
     },
     "execution_count": 42,
     "metadata": {},
     "output_type": "execute_result"
    }
   ],
   "source": [
    "result"
   ]
  },
  {
   "cell_type": "code",
   "execution_count": 43,
   "metadata": {},
   "outputs": [],
   "source": [
    "import matplotlib.pyplot as plt"
   ]
  },
  {
   "cell_type": "code",
   "execution_count": 44,
   "metadata": {},
   "outputs": [
    {
     "data": {
      "image/png": "[encoded data removed]",
      "text/plain": [
       "<Figure size 432x288 with 1 Axes>"
      ]
     },
     "metadata": {
      "needs_background": "light"
     },
     "output_type": "display_data"
    }
   ],
   "source": [
    "plt.hist(result, bins=20)\n",
    "plt.show()"
   ]
  },
  {
   "cell_type": "code",
   "execution_count": 50,
   "metadata": {},
   "outputs": [
    {
     "name": "stdout",
     "output_type": "stream",
     "text": [
      "Detail>>>>> [ 0.03508616  0.03044658  0.03396208  0.04917958  0.04363231  0.03585705\n",
      "  0.03800259  0.02614464 -0.00645106 -0.01318814 -0.02600917 -0.02318705\n",
      " -0.03138278 -0.05529063 -0.06974738 -0.07414928 -0.08903584 -0.10015587\n",
      " -0.07028491 -0.06416063 -0.04106932 -0.06177756 -0.07400209 -0.06221383\n",
      " -0.04459367 -0.06279356 -0.06255781 -0.02796409 -0.02974193 -0.01284709\n",
      " -0.03646598 -0.02080546  0.00511381  0.01625668  0.          0.0247744\n",
      "  0.05709785  0.          0.03076763  0.          0.          0.\n",
      " -0.         -0.         -0.         -0.         -0.         -0.\n",
      " -0.          0.         -0.          0.          0.          0.01645592\n",
      "  0.04245999  0.04775225  0.03187937  0.00219265  0.00144698 -0.04280667\n",
      " -0.02920934 -0.00885998 -0.00578144 -0.01449687 -0.04733936 -0.\n",
      " -0.02001169 -0.00358993 -0.01839667 -0.01876739 -0.0143607  -0.03281836\n",
      "  0.0376842   0.03661349  0.00740045  0.01654183 -0.00307467 -0.03241983\n",
      "  0.04911348  0.06783813  0.04624801  0.04592058  0.06255963  0.06872063\n",
      "  0.0428451   0.          0.021053    0.02009056  0.          0.\n",
      "  0.          0.031623    0.01298968  0.         -0.0016824   0.02038455\n",
      "  0.         -0.0044039  -0.         -0.          0.          0.\n",
      "  0.          0.          0.          0.          0.          0.\n",
      "  0.          0.          0.          0.          0.          0.02385622\n",
      "  0.01910837  0.02411387  0.02695746  0.02413888  0.01095027  0.00984784\n",
      "  0.00634208  0.01221584  0.01055061]\n",
      "Total >>>>> -13.368%\n",
      "Prec. >>>>> 52.941%\n",
      "Cover.>>>>> 69.106%\n",
      "Sharp >>>>> -0.040\n",
      "Mean  >>>>> -0.002\n",
      "Std   >>>>> 0.039\n",
      "Samples>>>> 123\n"
     ]
    },
    {
     "data": {
      "text/plain": [
       "{'total_return': -0.1336779991557639,\n",
       " 'precision': 0.5294117647058824,\n",
       " 'coverage': 0.6910569105691057,\n",
       " 'sharpe_ratio': -0.03994170404732013,\n",
       " 'mean': -0.0015726823430089877,\n",
       " 'std': 0.03937444284164201}"
      ]
     },
     "execution_count": 50,
     "metadata": {},
     "output_type": "execute_result"
    }
   ],
   "source": [
    "clf.predict(x_test_data.values)\n",
    "ms.scoring(model=clf, x_test=x_test_data.values, y_test=y_test_data)"
   ]
  },
  {
   "cell_type": "code",
   "execution_count": null,
   "metadata": {},
   "outputs": [],
   "source": []
  }
 ],
 "metadata": {
  "kernelspec": {
   "display_name": "Python 3",
   "language": "python",
   "name": "python3"
  },
  "language_info": {
   "codemirror_mode": {
    "name": "ipython",
    "version": 3
   },
   "file_extension": ".py",
   "mimetype": "text/x-python",
   "name": "python",
   "nbconvert_exporter": "python",
   "pygments_lexer": "ipython3",
   "version": "3.6.6"
  }
 },
 "nbformat": 4,
 "nbformat_minor": 1
}
